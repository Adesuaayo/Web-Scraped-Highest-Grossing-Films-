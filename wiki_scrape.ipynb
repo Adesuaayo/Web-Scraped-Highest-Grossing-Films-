{
 "cells": [
  {
   "cell_type": "markdown",
   "id": "02422d36",
   "metadata": {},
   "source": [
    "## Introduction: Exploring the World of Cinema Through Web Scraping\n",
    "\n",
    "Welcome to this exciting journey into the world of cinema, where we dive into the mesmerizing realm of film industry data. In this project, we will be webscraping the highest-grossing films year by year from 1915 till date from this [Wikipedia page](https://en.wikipedia.org/wiki/List_of_highest-grossing_films#High-grossing_films_by_year)\n",
    "\n",
    "\n",
    "At the end of this project we should have a table similar to this:\n",
    "\n",
    "|Year\t   | Titles\t  | Worldwide_gross| Budget\n",
    "|----------|----------|----------|----------|\n",
    "|0\t1915   |The Birth of a Nation |\t50000000.0|\t110000|\n",
    "|1\t1916   |Intolerance\t|1750000.0 |385907|\n",
    "|2\t1917   |Cleopatra\t|500000.0  |300000|\n",
    "|3\t1918   |Mickey\t|8000000.0\t|250000|\n",
    "|4\t1919   |The Miracle Man\t|3000000.0 |120000|\n",
    "\n"
   ]
  },
  {
   "cell_type": "markdown",
   "id": "2b39a229",
   "metadata": {},
   "source": [
    "### Web Scraping"
   ]
  },
  {
   "cell_type": "code",
   "execution_count": 1,
   "id": "9e5c81e2",
   "metadata": {},
   "outputs": [],
   "source": [
    "# Import necessary libraries for web scraping and data manipulation\n",
    "import pandas as pd \n",
    "import requests  \n",
    "from bs4 import BeautifulSoup \n"
   ]
  },
  {
   "cell_type": "code",
   "execution_count": 2,
   "id": "1c478093",
   "metadata": {},
   "outputs": [],
   "source": [
    "import warnings\n",
    "warnings.filterwarnings(\"ignore\")"
   ]
  },
  {
   "cell_type": "code",
   "execution_count": 4,
   "id": "36f82292",
   "metadata": {},
   "outputs": [],
   "source": [
    "# Define the URL of the Wikipedia page containing the list of highest-grossing films and retrieve its content\n",
    "url = \"https://en.wikipedia.org/wiki/List_of_highest-grossing_films#High-grossing_films_by_year\"\n",
    "\n",
    "data = requests.get(url).text\n",
    "\n",
    "# Create a BeautifulSoup object to parse the HTML content of the web page\n",
    "soup = BeautifulSoup(data, \"html.parser\")\n"
   ]
  },
  {
   "cell_type": "code",
   "execution_count": 5,
   "id": "2c23b3e7",
   "metadata": {},
   "outputs": [],
   "source": [
    "# Find the third table on the web page using BeautifulSoup (index 2, since Python uses 0-based indexing)\n",
    "table = soup.find_all(\"table\")[2]"
   ]
  },
  {
   "cell_type": "code",
   "execution_count": 6,
   "id": "7ac22689",
   "metadata": {},
   "outputs": [],
   "source": [
    "# Create empty lists to store film titles, worldwide gross, budgets, and years\n",
    "film_titles = []\n",
    "worldwide_gross = []\n",
    "budgets = []\n",
    "years = []"
   ]
  },
  {
   "cell_type": "code",
   "execution_count": 7,
   "id": "d412fe42",
   "metadata": {},
   "outputs": [],
   "source": [
    "# Loop through each row in the table (starting from the second row)\n",
    "for row in table.find_all(\"tr\")[1:]:\n",
    "    cells = row.find_all(\"td\") \n",
    "    \n",
    "    # Check if there are at least three cells (title, gross, and budget)\n",
    "    if len(cells) >= 3:\n",
    "        # Extract and strip the text content of each cell\n",
    "        title = cells[0].text.strip()     \n",
    "        gross = cells[1].text.strip()  \n",
    "        budget = cells[2].text.strip()\n",
    "        \n",
    "        # Append the extracted data to their respective lists\n",
    "        film_titles.append(title)\n",
    "        worldwide_gross.append(gross)\n",
    "        budgets.append(budget)\n"
   ]
  },
  {
   "cell_type": "code",
   "execution_count": 8,
   "id": "8c6054a1",
   "metadata": {},
   "outputs": [],
   "source": [
    "for row in table.find_all(\"tr\")[1:]:\n",
    "    cells = row.find_all(\"td\")\n",
    "    for y in row.find_all(\"th\"):\n",
    "        year = y.text.strip()\n",
    "    years.append(year)"
   ]
  },
  {
   "cell_type": "code",
   "execution_count": 9,
   "id": "2cf51735",
   "metadata": {},
   "outputs": [],
   "source": [
    "# Create a dictionary 'merge_data' to store film data with corresponding labels\n",
    "merge_data = {\n",
    "    'Year': years,            \n",
    "    'Titles': film_titles,     \n",
    "    'Worldwide_gross': worldwide_gross,\n",
    "    'Budget': budgets         \n",
    "}\n",
    "\n",
    "# Create a DataFrame 'df' using the 'merge_data' dictionary\n",
    "gross_earnings = pd.DataFrame(merge_data)\n"
   ]
  },
  {
   "cell_type": "markdown",
   "id": "f1f98463",
   "metadata": {},
   "source": [
    "### Data  Cleaning"
   ]
  },
  {
   "cell_type": "markdown",
   "id": "ffe0b439",
   "metadata": {},
   "source": [
    "Now that we've successfully scraped the data from the Wikipedia page, the next crucial step is data cleaning"
   ]
  },
  {
   "cell_type": "markdown",
   "id": "009917d1",
   "metadata": {},
   "source": [
    "#### Initial Data Inspection:\n",
    "Before we dive into cleaning, it's essential to get an overview of our dataset. Let's start by looking at the first few rows to understand the structure and identify any obvious issues:"
   ]
  },
  {
   "cell_type": "code",
   "execution_count": 10,
   "id": "a2a57052",
   "metadata": {
    "scrolled": false
   },
   "outputs": [
    {
     "data": {
      "text/html": [
       "<div>\n",
       "<style scoped>\n",
       "    .dataframe tbody tr th:only-of-type {\n",
       "        vertical-align: middle;\n",
       "    }\n",
       "\n",
       "    .dataframe tbody tr th {\n",
       "        vertical-align: top;\n",
       "    }\n",
       "\n",
       "    .dataframe thead th {\n",
       "        text-align: right;\n",
       "    }\n",
       "</style>\n",
       "<table border=\"1\" class=\"dataframe\">\n",
       "  <thead>\n",
       "    <tr style=\"text-align: right;\">\n",
       "      <th></th>\n",
       "      <th>Year</th>\n",
       "      <th>Titles</th>\n",
       "      <th>Worldwide_gross</th>\n",
       "      <th>Budget</th>\n",
       "    </tr>\n",
       "  </thead>\n",
       "  <tbody>\n",
       "    <tr>\n",
       "      <th>0</th>\n",
       "      <td>1915</td>\n",
       "      <td>The Birth of a Nation</td>\n",
       "      <td>$50,000,000–100,000,000$20,000,000+R ($5,200,0...</td>\n",
       "      <td>$110,000</td>\n",
       "    </tr>\n",
       "    <tr>\n",
       "      <th>1</th>\n",
       "      <td>1916</td>\n",
       "      <td>Intolerance</td>\n",
       "      <td>$1,750,000R IN</td>\n",
       "      <td>$385,907</td>\n",
       "    </tr>\n",
       "    <tr>\n",
       "      <th>2</th>\n",
       "      <td>1917</td>\n",
       "      <td>Cleopatra</td>\n",
       "      <td>$500,000*R</td>\n",
       "      <td>$300,000</td>\n",
       "    </tr>\n",
       "    <tr>\n",
       "      <th>3</th>\n",
       "      <td>1918</td>\n",
       "      <td>Mickey</td>\n",
       "      <td>$8,000,000</td>\n",
       "      <td>$250,000</td>\n",
       "    </tr>\n",
       "    <tr>\n",
       "      <th>4</th>\n",
       "      <td>1919</td>\n",
       "      <td>The Miracle Man</td>\n",
       "      <td>$3,000,000R</td>\n",
       "      <td>$120,000</td>\n",
       "    </tr>\n",
       "  </tbody>\n",
       "</table>\n",
       "</div>"
      ],
      "text/plain": [
       "   Year                 Titles  \\\n",
       "0  1915  The Birth of a Nation   \n",
       "1  1916            Intolerance   \n",
       "2  1917              Cleopatra   \n",
       "3  1918                 Mickey   \n",
       "4  1919        The Miracle Man   \n",
       "\n",
       "                                     Worldwide_gross    Budget  \n",
       "0  $50,000,000–100,000,000$20,000,000+R ($5,200,0...  $110,000  \n",
       "1                                     $1,750,000R IN  $385,907  \n",
       "2                                         $500,000*R  $300,000  \n",
       "3                                         $8,000,000  $250,000  \n",
       "4                                        $3,000,000R  $120,000  "
      ]
     },
     "execution_count": 10,
     "metadata": {},
     "output_type": "execute_result"
    }
   ],
   "source": [
    "gross_earnings.head(5)"
   ]
  },
  {
   "cell_type": "markdown",
   "id": "0f183a92",
   "metadata": {},
   "source": [
    "####  Handling Missing Values:"
   ]
  },
  {
   "cell_type": "code",
   "execution_count": 11,
   "id": "c8446781",
   "metadata": {},
   "outputs": [
    {
     "data": {
      "text/plain": [
       "Year               0\n",
       "Titles             0\n",
       "Worldwide_gross    0\n",
       "Budget             0\n",
       "dtype: int64"
      ]
     },
     "execution_count": 11,
     "metadata": {},
     "output_type": "execute_result"
    }
   ],
   "source": [
    "gross_earnings[['Year', 'Titles', 'Worldwide_gross', 'Budget']].isna().sum()"
   ]
  },
  {
   "cell_type": "markdown",
   "id": "db2d4e43",
   "metadata": {},
   "source": [
    "The result from our _gross_earnings.head()_ above shows that we have some characters in the worldwide_gross column and Budget columns. Inorder to be able to carry out analysis on those columns there's need to clean and format those columns properly. "
   ]
  },
  {
   "cell_type": "code",
   "execution_count": 12,
   "id": "b8aa69f6",
   "metadata": {},
   "outputs": [],
   "source": [
    "# Remove dollar signs and commas from the 'Worldwide_gross' and 'Budget' columns in the DataFrame to make them numeric-friendly.\n",
    "gross_earnings['Worldwide_gross'] = gross_earnings['Worldwide_gross'].str.replace('$', '').str.replace(',','')\n",
    "gross_earnings['Budget'] = gross_earnings['Budget'].str.replace('$', '').str.replace(',','')\n"
   ]
  },
  {
   "cell_type": "code",
   "execution_count": 13,
   "id": "62a2864b",
   "metadata": {},
   "outputs": [
    {
     "data": {
      "text/html": [
       "<div>\n",
       "<style scoped>\n",
       "    .dataframe tbody tr th:only-of-type {\n",
       "        vertical-align: middle;\n",
       "    }\n",
       "\n",
       "    .dataframe tbody tr th {\n",
       "        vertical-align: top;\n",
       "    }\n",
       "\n",
       "    .dataframe thead th {\n",
       "        text-align: right;\n",
       "    }\n",
       "</style>\n",
       "<table border=\"1\" class=\"dataframe\">\n",
       "  <thead>\n",
       "    <tr style=\"text-align: right;\">\n",
       "      <th></th>\n",
       "      <th>Year</th>\n",
       "      <th>Titles</th>\n",
       "      <th>Worldwide_gross</th>\n",
       "      <th>Budget</th>\n",
       "    </tr>\n",
       "  </thead>\n",
       "  <tbody>\n",
       "    <tr>\n",
       "      <th>0</th>\n",
       "      <td>1915</td>\n",
       "      <td>The Birth of a Nation</td>\n",
       "      <td>50000000–10000000020000000+R (5200000)R</td>\n",
       "      <td>110000</td>\n",
       "    </tr>\n",
       "    <tr>\n",
       "      <th>1</th>\n",
       "      <td>1916</td>\n",
       "      <td>Intolerance</td>\n",
       "      <td>1750000R IN</td>\n",
       "      <td>385907</td>\n",
       "    </tr>\n",
       "    <tr>\n",
       "      <th>2</th>\n",
       "      <td>1917</td>\n",
       "      <td>Cleopatra</td>\n",
       "      <td>500000*R</td>\n",
       "      <td>300000</td>\n",
       "    </tr>\n",
       "    <tr>\n",
       "      <th>3</th>\n",
       "      <td>1918</td>\n",
       "      <td>Mickey</td>\n",
       "      <td>8000000</td>\n",
       "      <td>250000</td>\n",
       "    </tr>\n",
       "    <tr>\n",
       "      <th>4</th>\n",
       "      <td>1919</td>\n",
       "      <td>The Miracle Man</td>\n",
       "      <td>3000000R</td>\n",
       "      <td>120000</td>\n",
       "    </tr>\n",
       "  </tbody>\n",
       "</table>\n",
       "</div>"
      ],
      "text/plain": [
       "   Year                 Titles                          Worldwide_gross  \\\n",
       "0  1915  The Birth of a Nation  50000000–10000000020000000+R (5200000)R   \n",
       "1  1916            Intolerance                              1750000R IN   \n",
       "2  1917              Cleopatra                                 500000*R   \n",
       "3  1918                 Mickey                                  8000000   \n",
       "4  1919        The Miracle Man                                 3000000R   \n",
       "\n",
       "   Budget  \n",
       "0  110000  \n",
       "1  385907  \n",
       "2  300000  \n",
       "3  250000  \n",
       "4  120000  "
      ]
     },
     "execution_count": 13,
     "metadata": {},
     "output_type": "execute_result"
    }
   ],
   "source": [
    "gross_earnings.head()"
   ]
  },
  {
   "cell_type": "code",
   "execution_count": 14,
   "id": "8d93cfc9",
   "metadata": {},
   "outputs": [],
   "source": [
    "# Extract numeric digits from the 'Worldwide_gross' and 'budget' column and store them back in the same column.\n",
    "gross_earnings['Worldwide_gross'] = gross_earnings['Worldwide_gross'].str.extract(r'(\\d+)')\n",
    "gross_earnings['Budget'] = gross_earnings['Budget'].str.extract(r'(\\d+)')"
   ]
  },
  {
   "cell_type": "code",
   "execution_count": 15,
   "id": "8935719a",
   "metadata": {
    "scrolled": true
   },
   "outputs": [
    {
     "data": {
      "text/html": [
       "<div>\n",
       "<style scoped>\n",
       "    .dataframe tbody tr th:only-of-type {\n",
       "        vertical-align: middle;\n",
       "    }\n",
       "\n",
       "    .dataframe tbody tr th {\n",
       "        vertical-align: top;\n",
       "    }\n",
       "\n",
       "    .dataframe thead th {\n",
       "        text-align: right;\n",
       "    }\n",
       "</style>\n",
       "<table border=\"1\" class=\"dataframe\">\n",
       "  <thead>\n",
       "    <tr style=\"text-align: right;\">\n",
       "      <th></th>\n",
       "      <th>Year</th>\n",
       "      <th>Titles</th>\n",
       "      <th>Worldwide_gross</th>\n",
       "      <th>Budget</th>\n",
       "    </tr>\n",
       "  </thead>\n",
       "  <tbody>\n",
       "    <tr>\n",
       "      <th>0</th>\n",
       "      <td>1915</td>\n",
       "      <td>The Birth of a Nation</td>\n",
       "      <td>50000000</td>\n",
       "      <td>110000</td>\n",
       "    </tr>\n",
       "    <tr>\n",
       "      <th>1</th>\n",
       "      <td>1916</td>\n",
       "      <td>Intolerance</td>\n",
       "      <td>1750000</td>\n",
       "      <td>385907</td>\n",
       "    </tr>\n",
       "    <tr>\n",
       "      <th>2</th>\n",
       "      <td>1917</td>\n",
       "      <td>Cleopatra</td>\n",
       "      <td>500000</td>\n",
       "      <td>300000</td>\n",
       "    </tr>\n",
       "    <tr>\n",
       "      <th>3</th>\n",
       "      <td>1918</td>\n",
       "      <td>Mickey</td>\n",
       "      <td>8000000</td>\n",
       "      <td>250000</td>\n",
       "    </tr>\n",
       "    <tr>\n",
       "      <th>4</th>\n",
       "      <td>1919</td>\n",
       "      <td>The Miracle Man</td>\n",
       "      <td>3000000</td>\n",
       "      <td>120000</td>\n",
       "    </tr>\n",
       "  </tbody>\n",
       "</table>\n",
       "</div>"
      ],
      "text/plain": [
       "   Year                 Titles Worldwide_gross  Budget\n",
       "0  1915  The Birth of a Nation        50000000  110000\n",
       "1  1916            Intolerance         1750000  385907\n",
       "2  1917              Cleopatra          500000  300000\n",
       "3  1918                 Mickey         8000000  250000\n",
       "4  1919        The Miracle Man         3000000  120000"
      ]
     },
     "execution_count": 15,
     "metadata": {},
     "output_type": "execute_result"
    }
   ],
   "source": [
    "gross_earnings.head()"
   ]
  },
  {
   "cell_type": "markdown",
   "id": "fb28d046",
   "metadata": {},
   "source": [
    "During webscraping we had issues with movies title 'Jurasic world' and 'Barbie'. Since it's just those two movies  We will manually correct the values they are in index '117' and '148' respectively.\n",
    "But first lets view them so we can know the issue."
   ]
  },
  {
   "cell_type": "code",
   "execution_count": 16,
   "id": "3fe6e912",
   "metadata": {
    "scrolled": true
   },
   "outputs": [
    {
     "data": {
      "text/plain": [
       "Year                             Jurassic Park †\n",
       "Titles             $1,037,119,542 ($912,667,947)\n",
       "Worldwide_gross                         63000000\n",
       "Budget                                        74\n",
       "Name: 117, dtype: object"
      ]
     },
     "execution_count": 16,
     "metadata": {},
     "output_type": "execute_result"
    }
   ],
   "source": [
    "gross_earnings.iloc[117]"
   ]
  },
  {
   "cell_type": "code",
   "execution_count": 17,
   "id": "9df23e5e",
   "metadata": {
    "scrolled": true
   },
   "outputs": [
    {
     "data": {
      "text/plain": [
       "Year                     Barbie †\n",
       "Titles             $1,385,132,678\n",
       "Worldwide_gross         128000000\n",
       "Budget                         27\n",
       "Name: 148, dtype: object"
      ]
     },
     "execution_count": 17,
     "metadata": {},
     "output_type": "execute_result"
    }
   ],
   "source": [
    "gross_earnings.iloc[148]"
   ]
  },
  {
   "cell_type": "markdown",
   "id": "a4e70d2c",
   "metadata": {},
   "source": [
    "Using iloc we see that the values were shift one row to the left, we have Title shifted to year, Worldwide_gross to Titles and so on.\n",
    "\n",
    "So we will input the manually still using the iloc."
   ]
  },
  {
   "cell_type": "code",
   "execution_count": 18,
   "id": "decf2df2",
   "metadata": {},
   "outputs": [],
   "source": [
    "gross_earnings.iloc[117] = ['1993', 'Jurassic Park', '1037119542', '63000000']\n",
    "gross_earnings.iloc[148] = ['2023', 'Barbie', '1385132678', '128000000']"
   ]
  },
  {
   "cell_type": "code",
   "execution_count": 19,
   "id": "29933ef8",
   "metadata": {
    "scrolled": true
   },
   "outputs": [
    {
     "data": {
      "text/plain": [
       "Year                        1993\n",
       "Titles             Jurassic Park\n",
       "Worldwide_gross       1037119542\n",
       "Budget                  63000000\n",
       "Name: 117, dtype: object"
      ]
     },
     "execution_count": 19,
     "metadata": {},
     "output_type": "execute_result"
    }
   ],
   "source": [
    "gross_earnings.iloc[117]"
   ]
  },
  {
   "cell_type": "markdown",
   "id": "63c9df80",
   "metadata": {},
   "source": [
    "#### Data Type Conversion"
   ]
  },
  {
   "cell_type": "code",
   "execution_count": 20,
   "id": "83b45a67",
   "metadata": {},
   "outputs": [],
   "source": [
    "# Convert the 'Year' column to datetime\n",
    "gross_earnings['Year'] = pd.to_datetime(gross_earnings['Year']).dt.year\n",
    "gross_earnings['Worldwide_gross'] = gross_earnings['Worldwide_gross'].astype(float)\n",
    "gross_earnings['Budget'] =  gross_earnings['Budget'].astype(int)"
   ]
  },
  {
   "cell_type": "code",
   "execution_count": 21,
   "id": "6a33a450",
   "metadata": {},
   "outputs": [
    {
     "data": {
      "text/plain": [
       "Year                 int64\n",
       "Titles              object\n",
       "Worldwide_gross    float64\n",
       "Budget               int32\n",
       "dtype: object"
      ]
     },
     "execution_count": 21,
     "metadata": {},
     "output_type": "execute_result"
    }
   ],
   "source": [
    "gross_earnings.dtypes"
   ]
  },
  {
   "cell_type": "code",
   "execution_count": 22,
   "id": "9cccbdeb",
   "metadata": {},
   "outputs": [
    {
     "data": {
      "text/html": [
       "<div>\n",
       "<style scoped>\n",
       "    .dataframe tbody tr th:only-of-type {\n",
       "        vertical-align: middle;\n",
       "    }\n",
       "\n",
       "    .dataframe tbody tr th {\n",
       "        vertical-align: top;\n",
       "    }\n",
       "\n",
       "    .dataframe thead th {\n",
       "        text-align: right;\n",
       "    }\n",
       "</style>\n",
       "<table border=\"1\" class=\"dataframe\">\n",
       "  <thead>\n",
       "    <tr style=\"text-align: right;\">\n",
       "      <th></th>\n",
       "      <th>Year</th>\n",
       "      <th>Titles</th>\n",
       "      <th>Worldwide_gross</th>\n",
       "      <th>Budget</th>\n",
       "    </tr>\n",
       "  </thead>\n",
       "  <tbody>\n",
       "    <tr>\n",
       "      <th>0</th>\n",
       "      <td>1915</td>\n",
       "      <td>The Birth of a Nation</td>\n",
       "      <td>50000000.0</td>\n",
       "      <td>110000</td>\n",
       "    </tr>\n",
       "    <tr>\n",
       "      <th>1</th>\n",
       "      <td>1916</td>\n",
       "      <td>Intolerance</td>\n",
       "      <td>1750000.0</td>\n",
       "      <td>385907</td>\n",
       "    </tr>\n",
       "    <tr>\n",
       "      <th>2</th>\n",
       "      <td>1917</td>\n",
       "      <td>Cleopatra</td>\n",
       "      <td>500000.0</td>\n",
       "      <td>300000</td>\n",
       "    </tr>\n",
       "    <tr>\n",
       "      <th>3</th>\n",
       "      <td>1918</td>\n",
       "      <td>Mickey</td>\n",
       "      <td>8000000.0</td>\n",
       "      <td>250000</td>\n",
       "    </tr>\n",
       "    <tr>\n",
       "      <th>4</th>\n",
       "      <td>1919</td>\n",
       "      <td>The Miracle Man</td>\n",
       "      <td>3000000.0</td>\n",
       "      <td>120000</td>\n",
       "    </tr>\n",
       "  </tbody>\n",
       "</table>\n",
       "</div>"
      ],
      "text/plain": [
       "   Year                 Titles  Worldwide_gross  Budget\n",
       "0  1915  The Birth of a Nation       50000000.0  110000\n",
       "1  1916            Intolerance        1750000.0  385907\n",
       "2  1917              Cleopatra         500000.0  300000\n",
       "3  1918                 Mickey        8000000.0  250000\n",
       "4  1919        The Miracle Man        3000000.0  120000"
      ]
     },
     "execution_count": 22,
     "metadata": {},
     "output_type": "execute_result"
    }
   ],
   "source": [
    "gross_earnings.head(5)"
   ]
  },
  {
   "cell_type": "code",
   "execution_count": 23,
   "id": "92a9713c",
   "metadata": {},
   "outputs": [],
   "source": [
    "# Save the DataFrame 'df' to a CSV file for further data cleaning and analysis\n",
    "gross_earnings.to_csv('highest_gross_films_by_year.csv')"
   ]
  }
 ],
 "metadata": {
  "kernelspec": {
   "display_name": "Python 3 (ipykernel)",
   "language": "python",
   "name": "python3"
  },
  "language_info": {
   "codemirror_mode": {
    "name": "ipython",
    "version": 3
   },
   "file_extension": ".py",
   "mimetype": "text/x-python",
   "name": "python",
   "nbconvert_exporter": "python",
   "pygments_lexer": "ipython3",
   "version": "3.9.13"
  }
 },
 "nbformat": 4,
 "nbformat_minor": 5
}
